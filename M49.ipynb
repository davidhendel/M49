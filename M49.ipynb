{
 "cells": [
  {
   "cell_type": "markdown",
   "metadata": {},
   "source": [
    "# M49 GC/Shell Analysis\n",
    "\n",
    "Code for Taylor et al. 2020 investigating whether clusters stripped from VCC 1249 are a plausible source of a dip in the velocity profile of M49's GC system.\n",
    "\n",
    "M49 potential parameters from M. Bílek et al. 2019, using Cote 2003 GC data, distance from Tonry et al. SBC:\n",
    "\n",
    "|  β  |  M/L|         d   |     log(ρ_s)|   log(r_s) |    c  | log(r_vir)| log(Mvir) |log(M∗)|\n",
    "|----|:-----:|:-------------:|:-----------:|:-----------:|:------:|:---------:|:---------:|:--------:|\n",
    "| iso | 5 ± 1  | 16.1 ± 0.7 |  5.7 ± 0.2 |  2.9 ± 0.2 |   4.9  |   3.6 |      15.4|     11.6| \n",
    "| neg | 5 ± 1  | 16.2 ± 0.7 |  5.7 ± 0.2 |  2.8 ± 0.3 |   4.8  |   3.5 |      15.3|     11.6| \n",
    "| lit | 5 ± 1  | 16.1 ± 0.7 |  5.8 ± 0.2 |  2.9 ± 0.2 |   5.0  |   3.6 |      15.5|     11.6| \n",
    "\n",
    "Question these assumptions!\n",
    "\n",
    "\n",
    "Kinematics from Battaia et al. 2012 and M.G. Lee et al. 1997\n",
    "\n",
    "|Region| Proj.Dist.| Proj.Dist.| Velocity| X | Y |\n",
    "|----|:-----:|:-----:|:-----:|:-----:|:-----:|\n",
    "| | kpc|arcsec| km s-1| px| px|\n",
    "| VCC 1249 | 0 | 0 | 390 ± 30 | | | \n",
    "| C12 | 0.5 | 5.8 | 390 ± 30| 414.48 | 382.30 |\n",
    "| C17 | 1.5 | 19.2 | 390 ± 30| 442.68| 372.07|\n",
    "| C6  | 5.6 | 70.7| 533 ± 53| 334.29| 510.38|\n",
    "| (H i) | 10.0 | | 469 ± 3| | |\n",
    "| C2 | 10.0 | 126.1 |561 ± 34|267.5 |606.19 |\n",
    "| C4 | 11.0 | 137.9 |656 ± 73| 299.05|650.47 |\n",
    "| C1 | 12.0 | 151.4 |716 ± 106|258.52 | 663.34|\n",
    "| (M 49) | 26.5 | 334.0 | 1001 ± 12 | | |"
   ]
  },
  {
   "cell_type": "code",
   "execution_count": 210,
   "metadata": {},
   "outputs": [],
   "source": [
    "%matplotlib widget\n",
    "import os\n",
    "import sys\n",
    "import time\n",
    "import numpy as np\n",
    "import scipy\n",
    "import matplotlib.pyplot as plt\n",
    "from matplotlib.colors import LogNorm\n",
    "import amuse.io\n",
    "from amuse.lab import *\n",
    "from amuse.datamodel import Particles\n",
    "import amuse.plot\n",
    "from amuse.community.bhtree.interface import BHTree\n",
    "from amuse_helpers import initialize_nfw_model\n",
    "from astropy.coordinates import SkyCoord\n",
    "import astropy.units as u\n",
    "from galpy.potential import NFWPotential\n",
    "from galpy.potential import ChandrasekharDynamicalFrictionForce\n",
    "from galpy.util import bovy_conversion, bovy_coords\n",
    "from galpy.orbit import Orbit\n",
    "\n",
    "#set environment variables for your directory structure in .bash_profile and .bash_rc, e.g.\n",
    "#    export _M49_DATA_DIR=/path/to/M49data/\n",
    "_DATADIR  =  os.environ['_M49_DATA_DIR']\n",
    "_LOCALDIR =  os.environ['_M49_LOCAL_DIR']"
   ]
  },
  {
   "cell_type": "markdown",
   "metadata": {},
   "source": [
    "## Observations"
   ]
  },
  {
   "cell_type": "code",
   "execution_count": 241,
   "metadata": {},
   "outputs": [
    {
     "data": {
      "application/vnd.jupyter.widget-view+json": {
       "model_id": "8e5139161ab348d497f84e0b5e39582a",
       "version_major": 2,
       "version_minor": 0
      },
      "text/plain": [
       "Canvas(toolbar=Toolbar(toolitems=[('Home', 'Reset original view', 'home', 'home'), ('Back', 'Back to  previous…"
      ]
     },
     "metadata": {},
     "output_type": "display_data"
    },
    {
     "data": {
      "text/plain": [
       "Text(0,0.5,'Radial velocity [km/s]')"
      ]
     },
     "execution_count": 241,
     "metadata": {},
     "output_type": "execute_result"
    }
   ],
   "source": [
    "scVCC1249 = SkyCoord(l=287.140966*u.deg, b=70.141573*u.deg, radial_velocity=(390)*u.km/u.s, frame = 'galactic')\n",
    "scM49 = SkyCoord(l=286.9218091*u.deg,  b=70.1960685*u.deg,radial_velocity=(1001)*u.km/u.s, frame = 'galactic')  \n",
    "#assume C12 is at the center of VCC 1249 since it's unclear from the data\n",
    "pxscale = 151.4/(np.sqrt((414.48-258.52)**2+(382.3-663.34)**2))#arcsec/px\n",
    "physscale = 26.5/334 #kpc/arcsec\n",
    "scHII = SkyCoord(\n",
    "    ra=(np.array([414.48, 442.68, 334.29, 267.5, 299.05, 258.52])-414.48)*(pxscale)*u.arcsec+scVCC1249.icrs.ra,\n",
    "    dec=(np.array([382.3,372.07,510.38,606.19,650.47,663.34])-382.3)*(pxscale)*u.arcsec+scVCC1249.icrs.dec, \n",
    "    radial_velocity=(np.array([390,390,533,561,656,716]))*u.km/u.s, frame='icrs')\n",
    "\n",
    "im = plt.imread('M49.png')\n",
    "llc = SkyCoord(ra='12h30m10s', dec='7d54m', frame='icrs')\n",
    "urc = SkyCoord(ra='12h29m20s', dec='8d4m', frame='icrs')\n",
    "\n",
    "plt.figure(figsize=(9,5))\n",
    "plt.subplot(121, aspect='equal')\n",
    "plt.imshow(im, extent = [llc.ra.degree, urc.ra.degree, llc.dec.degree, urc.dec.degree])\n",
    "plt.scatter(scVCC1249.icrs.ra, scVCC1249.icrs.dec, c='r', s=40, label = 'VCC1249')\n",
    "plt.scatter(scM49.icrs.ra, scM49.icrs.dec, c='b', s=50, label = 'M49')\n",
    "plt.scatter(scHII.icrs.ra, scHII.icrs.dec, c='forestgreen', s=10, label = 'HII Regions')\n",
    "plt.xlabel('RA')\n",
    "plt.xlabel('Dec')\n",
    "plt.legend(loc='upper right')\n",
    "\n",
    "plt.subplot(122)\n",
    "plt.scatter([0],scM49.radial_velocity, \n",
    "            c='b', s=50, label = 'M49')\n",
    "plt.scatter(scM49.separation(scVCC1249).to(u.arcsec), scVCC1249.radial_velocity, \n",
    "            c='r', s=40, label = 'VCC1249')\n",
    "plt.scatter(scM49.separation(scHII).to(u.arcsec), scHII.radial_velocity,\n",
    "            c='forestgreen', s=10, label = 'HII Regions')\n",
    "plt.xlabel('Radius [arcsec]')\n",
    "plt.ylabel('Radial velocity [km/s]')"
   ]
  },
  {
   "cell_type": "markdown",
   "metadata": {},
   "source": [
    "## Conversion to natural M49 system"
   ]
  },
  {
   "cell_type": "code",
   "execution_count": 284,
   "metadata": {},
   "outputs": [],
   "source": [
    "R0,V0=8.,220.\n",
    "rs = (scM49.separation(scHII).to(u.arcsec)*physscale).value\n",
    "phis = scM49.position_angle(scHII).radian\n",
    "vzs = (scHII.radial_velocity - scM49.radial_velocity).value\n",
    "init_vxvv=[rs[0]/R0, 0., 0., 0., vzs[0]/V0, phis[0]]\n",
    "vxvv = np.array([rs/R0, np.zeros(6), np.zeros(6), np.zeros(6), vzs/V0, phis]).T\n",
    "vxvv_err = np.array([.1*np.ones(6), 3*np.ones(6), 3*np.ones(6), 3*np.ones(6), .1*np.ones(6), .05*np.ones(6)]).T\n",
    "#iR,ivR,ivT,iz,ivz,iphi\n",
    "init_orbit = Orbit(init_vxvv)\n",
    "data_orbit = Orbit(vxvv)"
   ]
  },
  {
   "cell_type": "markdown",
   "metadata": {},
   "source": [
    "## Fit orbit"
   ]
  },
  {
   "cell_type": "code",
   "execution_count": 315,
   "metadata": {},
   "outputs": [],
   "source": [
    "nfw = NFWPotential(conc=4.8, mvir=10**15.4/1e12)\n",
    "cdf = ChandrasekharDynamicalFrictionForce(GMs=1e13*u.Msun)\n",
    "pot = nfw+cdf\n",
    "\n",
    "\n",
    "fit_orbit = Orbit.from_fit(init_vxvv, vxvv, vxvv_err=vxvv_err, pot=pot)"
   ]
  },
  {
   "cell_type": "markdown",
   "metadata": {},
   "source": [
    "## Plot in natural system"
   ]
  },
  {
   "cell_type": "code",
   "execution_count": 316,
   "metadata": {},
   "outputs": [
    {
     "name": "stdout",
     "output_type": "stream",
     "text": [
      "/Users/hendel/anaconda2/envs/py37/lib/python3.7/site-packages/matplotlib/pyplot.py:522: RuntimeWarning: More than 20 figures have been opened. Figures created through the pyplot interface (`matplotlib.pyplot.figure`) are retained until explicitly closed and may consume too much memory. (To control this warning, see the rcParam `figure.max_open_warning`).\n",
      "  max_open_warning, RuntimeWarning)\n",
      "\n"
     ]
    },
    {
     "data": {
      "application/vnd.jupyter.widget-view+json": {
       "model_id": "0456e883b4e2466d84f0e7f5f8e652c9",
       "version_major": 2,
       "version_minor": 0
      },
      "text/plain": [
       "Canvas(toolbar=Toolbar(toolitems=[('Home', 'Reset original view', 'home', 'home'), ('Back', 'Back to  previous…"
      ]
     },
     "metadata": {},
     "output_type": "display_data"
    },
    {
     "name": "stdout",
     "output_type": "stream",
     "text": [
      "galpyWarning: Cannot use symplectic integration because some of the included forces are dissipative (using non-symplectic integrator dopr54_c instead)\n"
     ]
    },
    {
     "data": {
      "text/plain": [
       "<matplotlib.legend.Legend at 0x1b10e7240>"
      ]
     },
     "execution_count": 316,
     "metadata": {},
     "output_type": "execute_result"
    }
   ],
   "source": [
    "ts = np.linspace(0,.5,1000)*u.Gyr\n",
    "mts = -ts\n",
    "\n",
    "plt.figure(figsize=(9,5))\n",
    "plt.subplot(121, aspect='equal')\n",
    "plt.scatter([0], [0], c='b', s=50, label = 'M49')\n",
    "plt.scatter(data_orbit.x(), data_orbit.y(), c='forestgreen', s=10, label = 'HII Regions')\n",
    "plt.scatter(init_orbit.x(), init_orbit.y(), c='goldenrod', s=20, label = 'initial guess')\n",
    "plt.scatter(fit_orbit.x(), fit_orbit.y(), c='maroon', s=20, label = 'fit orbit')\n",
    "init_orbit.integrate(ts,pot=pot)\n",
    "fit_orbit.integrate(ts,pot=pot)\n",
    "plt.plot(init_orbit.x(ts), init_orbit.y(ts), c='goldenrod',alpha = 0.3)\n",
    "plt.plot(fit_orbit.x(ts), fit_orbit.y(ts), c='maroon',alpha = 0.3)\n",
    "init_orbit.integrate(mts,pot=pot)\n",
    "fit_orbit.integrate(mts,pot=pot)\n",
    "plt.plot(init_orbit.x(mts), init_orbit.y(mts), c='goldenrod',alpha = 0.3)\n",
    "plt.plot(fit_orbit.x(mts), fit_orbit.y(mts), c='maroon',alpha = 0.3)\n",
    "plt.xlabel('x [1]')\n",
    "plt.ylabel('y [1]')\n",
    "plt.xlim(-5,5)\n",
    "plt.ylim(-5,5)\n",
    "plt.legend(loc='upper right')\n",
    "\n",
    "plt.subplot(122, aspect='equal')\n",
    "plt.scatter([0], [0], c='b', s=50, label = 'M49')\n",
    "plt.scatter(data_orbit.R(), data_orbit.vz(), c='forestgreen', s=10, label = 'HII Regions')\n",
    "plt.scatter(init_orbit.R(), init_orbit.vz(), c='goldenrod', s=20, label = 'initial guess')\n",
    "plt.scatter(fit_orbit.R(), fit_orbit.vz(), c='maroon', s=20, label = 'fit orbit')\n",
    "init_orbit.integrate(ts,pot=pot)\n",
    "fit_orbit.integrate(ts,pot=pot)\n",
    "#plt.plot(init_orbit.R(ts), init_orbit.vz(ts), c='goldenrod',alpha = 0.3)\n",
    "#plt.plot(fit_orbit.R(ts), fit_orbit.vz(ts), c='maroon',alpha = 0.3)\n",
    "init_orbit.integrate(mts,pot=pot)\n",
    "fit_orbit.integrate(mts,pot=pot)\n",
    "plt.plot(init_orbit.R(mts), init_orbit.vz(mts), c='goldenrod',alpha = 0.3)\n",
    "plt.plot(fit_orbit.R(mts), fit_orbit.vz(mts), c='maroon',alpha = 0.3)\n",
    "plt.xlabel('Radius [1]')\n",
    "plt.ylabel('vz [1]')\n",
    "plt.xlim(-1,7)\n",
    "plt.ylim(-4,4)\n",
    "plt.legend(loc='upper right')"
   ]
  },
  {
   "cell_type": "markdown",
   "metadata": {},
   "source": [
    "## Find inital conditions for simulation"
   ]
  },
  {
   "cell_type": "code",
   "execution_count": 335,
   "metadata": {},
   "outputs": [
    {
     "data": {
      "application/vnd.jupyter.widget-view+json": {
       "model_id": "f6de1e233297425c9851369edd990fe3",
       "version_major": 2,
       "version_minor": 0
      },
      "text/plain": [
       "Canvas(toolbar=Toolbar(toolitems=[('Home', 'Reset original view', 'home', 'home'), ('Back', 'Back to  previous…"
      ]
     },
     "metadata": {},
     "output_type": "display_data"
    },
    {
     "data": {
      "application/vnd.jupyter.widget-view+json": {
       "model_id": "d57903968e7647408bcc918632b1234f",
       "version_major": 2,
       "version_minor": 0
      },
      "text/plain": [
       "Canvas(toolbar=Toolbar(toolitems=[('Home', 'Reset original view', 'home', 'home'), ('Back', 'Back to  previous…"
      ]
     },
     "metadata": {},
     "output_type": "display_data"
    },
    {
     "data": {
      "text/plain": [
       "[<matplotlib.lines.Line2D at 0x1b2addd30>]"
      ]
     },
     "execution_count": 335,
     "metadata": {},
     "output_type": "execute_result"
    }
   ],
   "source": [
    "ts = np.linspace(0,-2.77,3000)*u.Gyr\n",
    "fit_orbit.turn_physical_on()\n",
    "fit_orbit.integrate(ts,pot=pot)\n",
    "fit_orbit.plot3d()\n",
    "fit_orbit.plot(d1='t',d2='r')\n",
    "\n",
    "#-2.77 Gyr seems to give a good apocenter"
   ]
  },
  {
   "cell_type": "code",
   "execution_count": 344,
   "metadata": {},
   "outputs": [
    {
     "name": "stdout",
     "output_type": "stream",
     "text": [
      "43.1608085375 -66.563793623 -20.5541560126\n",
      "43.1332558515 -96.5279993982 454.238347169\n"
     ]
    }
   ],
   "source": [
    "#get IC and double check it is going the right way\n",
    "ic_orbit = fit_orbit(-2.77*u.Gyr)\n",
    "#print(fit_orbit.vx(-2.77*u.Gyr),fit_orbit.vy(-2.77*u.Gyr),fit_orbit.vz(-2.77*u.Gyr))\n",
    "print(ic_orbit.x(),ic_orbit.y(), ic_orbit.z())\n",
    "print(ic_orbit.vx(),ic_orbit.vy(), ic_orbit.vz())\n",
    "#icts = np.linspace(0,.1,100)*u.Gyr\n",
    "#ic_orbit.integrate(icts, pot=pot)\n",
    "\n",
    "#plt.figure()\n",
    "#plt.scatter(fit_orbit.r(ts[-1]),fit_orbit.y(ts[-1]),s=100)\n",
    "#plt.plot(fit_orbit.r(ts[-100:]),fit_orbit.y(ts[-100:]), lw=3)\n",
    "#plt.scatter(ic_orbit.r(),ic_orbit.y())\n",
    "#plt.plot(ic_orbit.r(icts),ic_orbit.y(icts))"
   ]
  },
  {
   "cell_type": "markdown",
   "metadata": {},
   "source": [
    "## Plot simulation\n",
    "\n",
    "## <span style=\"color:red\" style=\"font-size:50px\">**not final!**</span>"
   ]
  },
  {
   "cell_type": "code",
   "execution_count": 235,
   "metadata": {},
   "outputs": [],
   "source": [
    "stars, converter = initialize_nfw_model(1e5, mass = 1e12, scale_radius=25.)\n",
    "eint = stars[:].potential(smoothing_length_squared=(0.1 | units.kpc)**2)"
   ]
  },
  {
   "cell_type": "code",
   "execution_count": 305,
   "metadata": {},
   "outputs": [],
   "source": [
    "tf = amuse.io.read_set_from_file('./data/snap_2200.csv')\n",
    "mask = tf[100000:][eint<np.percentile(eint,10)]"
   ]
  },
  {
   "cell_type": "code",
   "execution_count": 306,
   "metadata": {},
   "outputs": [
    {
     "data": {
      "application/vnd.jupyter.widget-view+json": {
       "model_id": "da2e4514a24540ef839b11a62747a023",
       "version_major": 2,
       "version_minor": 0
      },
      "text/plain": [
       "Canvas(toolbar=Toolbar(toolitems=[('Home', 'Reset original view', 'home', 'home'), ('Back', 'Back to  previous…"
      ]
     },
     "metadata": {},
     "output_type": "display_data"
    },
    {
     "data": {
      "text/plain": [
       "Text(0.5,1,'Stars')"
      ]
     },
     "execution_count": 306,
     "metadata": {},
     "output_type": "execute_result"
    }
   ],
   "source": [
    "plt.figure()\n",
    "plt.subplot(121, aspect='equal')\n",
    "hhh = plt.hist2d(tf.x.value_in(units.kpc),tf.y.value_in(units.kpc),\n",
    "                 bins=np.linspace(-100,100,200), norm=LogNorm(), cmap='gray')\n",
    "plt.xlabel('x [kpc]')\n",
    "plt.ylabel('y [kpc]')\n",
    "plt.title('DM')\n",
    "plt.subplot(122, aspect='equal')\n",
    "hhh = plt.hist2d(mask.x.value_in(units.kpc),mask.y.value_in(units.kpc),\n",
    "                 bins=np.linspace(-100,100,200), norm=LogNorm(), cmap='afmhot')\n",
    "plt.xlabel('x [kpc]')\n",
    "plt.ylabel('y [kpc]')\n",
    "plt.title('Stars')"
   ]
  }
 ],
 "metadata": {
  "kernelspec": {
   "display_name": "Python 3",
   "language": "python",
   "name": "python3"
  },
  "language_info": {
   "codemirror_mode": {
    "name": "ipython",
    "version": 3
   },
   "file_extension": ".py",
   "mimetype": "text/x-python",
   "name": "python",
   "nbconvert_exporter": "python",
   "pygments_lexer": "ipython3",
   "version": "3.7.3"
  }
 },
 "nbformat": 4,
 "nbformat_minor": 4
}
